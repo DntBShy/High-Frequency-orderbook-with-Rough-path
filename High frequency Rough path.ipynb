{
 "cells": [
  {
   "cell_type": "code",
   "execution_count": 34,
   "metadata": {},
   "outputs": [],
   "source": [
    "import numpy as np\n",
    "import tensorflow as tf\n",
    "import keras\n",
    "from keras.models import Model\n",
    "from keras.layers import Input\n",
    "from keras.layers import Dense\n",
    "from keras.layers import LSTM\n",
    "from keras.layers.merge import concatenate\n",
    "from keras import optimizers\n",
    "import keras.backend as K\n",
    "from keras.models import Sequential\n",
    "import matplotlib.pyplot as plt\n",
    "import matplotlib.axes as ax\n",
    "import matplotlib\n",
    "import pylab\n",
    "from keras import metrics\n",
    "import pandas as pd\n",
    "from keras.callbacks import EarlyStopping, ModelCheckpoint\n",
    "from keras.models import load_model\n",
    "from sklearn.model_selection import train_test_split"
   ]
  },
  {
   "cell_type": "code",
   "execution_count": 40,
   "metadata": {},
   "outputs": [
    {
     "name": "stdout",
     "output_type": "stream",
     "text": [
      "/Users/hanglou\n"
     ]
    }
   ],
   "source": [
    "cd"
   ]
  },
  {
   "cell_type": "markdown",
   "metadata": {},
   "source": [
    "# Prepare model input and ouput "
   ]
  },
  {
   "cell_type": "code",
   "execution_count": 3,
   "metadata": {},
   "outputs": [],
   "source": [
    "OrderbookDay1=pd.read_csv('Desktop/Project 4 - High Frequency Trading/LOBSTERCodeDemoMatlab/orderbook10.csv',header=None).values.astype(float)\n",
    "OrderbookDay1[:,0::2]=(OrderbookDay1[:,0::2]/1e4)"
   ]
  },
  {
   "cell_type": "code",
   "execution_count": 9,
   "metadata": {},
   "outputs": [],
   "source": [
    "def import_orderbook(OrderDir,MsgDir):\n",
    "    orderbook=pd.read_csv(OrderDir,header=None).values.astype(float)\n",
    "    message=pd.read_csv(MsgDir,header=None).values[:,:6] ##extract first 6 columb\n",
    "    ##put the ask and bid price to zero at where there is no ask/bid order\n",
    "    orderbook[np.where(orderbook==9999999999.0)]=0\n",
    "    orderbook[np.where(orderbook==-9999999999.0)]=0\n",
    "    orderbook=orderbook[:,:40]\n",
    "    orderbook[:,0::2]=(orderbook[:,0::2]/1e4) # we normalize the price of the order book by dividing a factor 10000.\n",
    "    #filter the orderbook data outside the market opening& closing time\n",
    "    orderbook=orderbook[np.where((message[:,0]>=34200)&(message[:,0]<=57600)),:]\n",
    "    orderbook=orderbook.reshape(orderbook.shape[1:])\n",
    "    return(orderbook)\n",
    "  "
   ]
  },
  {
   "cell_type": "code",
   "execution_count": 30,
   "metadata": {},
   "outputs": [],
   "source": [
    "def price_move(mid):\n",
    "    n=len(mid)\n",
    "    Y=np.zeros([n,1])\n",
    "    Y[0,0]=2\n",
    "    for i in range(n-1):\n",
    "        if mid[i+1]>mid[i]:\n",
    "            Y[i+1,0]=0\n",
    "        elif mid[i+1]==mid[i]:\n",
    "            Y[i+1,0]=2\n",
    "        else:\n",
    "            Y[i+1,0]=1\n",
    "    return(Y)"
   ]
  },
  {
   "cell_type": "code",
   "execution_count": 31,
   "metadata": {},
   "outputs": [],
   "source": [
    "def delet_nopricemove(midprice):\n",
    "    pricemove=price_move(midprice)\n",
    "\n",
    "    index,=np.where(pricemove[:,0]==2)\n",
    "    print('index where no next price move = {}'.format(index))\n",
    "    pricemove1=np.delete(pricemove,index,0)\n",
    "    print(pricemove1.shape)\n",
    "    return(pricemove1,index)"
   ]
  },
  {
   "cell_type": "code",
   "execution_count": 38,
   "metadata": {},
   "outputs": [],
   "source": [
    "def data_preparation(Order,pricemove,p):\n",
    "    labels = keras.utils.to_categorical(pricemove, num_classes=2)\n",
    "    dataX=InputData(Order,p)\n",
    "    dataY=labels[p:,]\n",
    "    X_train, X_ValTest, y_train, y_ValTest = train_test_split( dataX, dataY, test_size=0.2, shuffle = False)\n",
    "    X_valid,X_test,y_valid, y_test= train_test_split(X_ValTest,y_ValTest,test_size=0.5,shuffle=False)\n",
    "    X_train_scaled, X_test_scaled = Normalize3D_tensor_Data(X_train, X_test)\n",
    "    X_train_scaled, X_valid_scaled = Normalize3D_tensor_Data(X_train, X_valid)\n",
    "    return(X_train_scaled,X_valid_scaled,X_test_scaled,y_train,y_valid,y_test)"
   ]
  },
  {
   "cell_type": "code",
   "execution_count": null,
   "metadata": {},
   "outputs": [],
   "source": [
    "def data_preparation1(Order,pricemove,p):\n",
    "    labels = keras.utils.to_categorical(pricemove, num_classes=2)\n",
    "    dataX=InputData(Order,p)\n",
    "    dataY=labels[(p+1):,]\n",
    "    X_train, X_ValTest, y_train, y_ValTest = train_test_split( dataX, dataY, test_size=0.2, shuffle = False)\n",
    "    X_valid,X_test,y_valid, y_test= train_test_split(X_ValTest,y_ValTest,test_size=0.5,shuffle=False)\n",
    "    X_train_scaled, X_test_scaled = Normalize3D_tensor_Data(X_train, X_test)\n",
    "    X_train_scaled, X_valid_scaled = Normalize3D_tensor_Data(X_train, X_valid)\n",
    "    return(X_train_scaled,X_valid_scaled,X_test_scaled,y_train,y_valid,y_test)"
   ]
  },
  {
   "cell_type": "code",
   "execution_count": 49,
   "metadata": {},
   "outputs": [],
   "source": [
    "def save_to_2dtxt(localdir,data):\n",
    "    with open(localdir, 'w') as outfile:\n",
    "        for slice_2d in data:\n",
    "            np.savetxt(outfile, slice_2d)"
   ]
  },
  {
   "cell_type": "code",
   "execution_count": 10,
   "metadata": {},
   "outputs": [],
   "source": [
    "AMZN1=import_orderbook('Desktop/Project 4 - High Frequency Trading/LOBSTERCodeDemoMatlab/orderbook10.csv',\n",
    "                       'Desktop/Project 4 - High Frequency Trading/LOBSTERCodeDemoMatlab/message10.csv')\n",
    "AMZN2=import_orderbook('Desktop/Project 4 - High Frequency Trading/_data_dwn_32_231__AMZN_2012-06-22_2012-06-30_50/AMZN_2012-06-22_24900000_57900000_orderbook_50.csv',\n",
    "                      'Desktop/Project 4 - High Frequency Trading/_data_dwn_32_231__AMZN_2012-06-22_2012-06-30_50/AMZN_2012-06-22_24900000_57900000_message_50.csv')\n",
    "AMZN3=import_orderbook('Desktop/Project 4 - High Frequency Trading/_data_dwn_32_231__AMZN_2012-06-22_2012-06-30_50/AMZN_2012-06-25_24900000_57900000_orderbook_50.csv',\n",
    "                      'Desktop/Project 4 - High Frequency Trading/_data_dwn_32_231__AMZN_2012-06-22_2012-06-30_50/AMZN_2012-06-25_24900000_57900000_message_50.csv')\n",
    "AMZN4=import_orderbook('Desktop/Project 4 - High Frequency Trading/_data_dwn_32_231__AMZN_2012-06-22_2012-06-30_50/AMZN_2012-06-26_24900000_57900000_orderbook_50.csv',\n",
    "                       'Desktop/Project 4 - High Frequency Trading/_data_dwn_32_231__AMZN_2012-06-22_2012-06-30_50/AMZN_2012-06-26_24900000_57900000_message_50.csv')\n",
    "AMZN5=import_orderbook('Desktop/Project 4 - High Frequency Trading/_data_dwn_32_231__AMZN_2012-06-22_2012-06-30_50/AMZN_2012-06-27_24900000_57900000_orderbook_50.csv',\n",
    "                      'Desktop/Project 4 - High Frequency Trading/_data_dwn_32_231__AMZN_2012-06-22_2012-06-30_50/AMZN_2012-06-27_24900000_57900000_message_50.csv')\n",
    "AMZN6=import_orderbook('Desktop/Project 4 - High Frequency Trading/_data_dwn_32_231__AMZN_2012-06-22_2012-06-30_50/AMZN_2012-06-28_24900000_57900000_orderbook_50.csv',\n",
    "                      'Desktop/Project 4 - High Frequency Trading/_data_dwn_32_231__AMZN_2012-06-22_2012-06-30_50/AMZN_2012-06-28_24900000_57900000_message_50.csv')\n",
    "AMZN7=import_orderbook('Desktop/Project 4 - High Frequency Trading/_data_dwn_32_231__AMZN_2012-06-22_2012-06-30_50/AMZN_2012-06-29_24900000_57900000_orderbook_50.csv',\n",
    "                      'Desktop/Project 4 - High Frequency Trading/_data_dwn_32_231__AMZN_2012-06-22_2012-06-30_50/AMZN_2012-06-29_24900000_57900000_message_50.csv')\n",
    "AMZN_7Days=np.concatenate((AMZN1,AMZN2,AMZN3,AMZN4,AMZN5,AMZN6,AMZN7))"
   ]
  },
  {
   "cell_type": "code",
   "execution_count": 25,
   "metadata": {},
   "outputs": [],
   "source": [
    "AMZN_midprice=(AMZN_7Days[:,0]+AMZN_7Days[:,2])/2"
   ]
  },
  {
   "cell_type": "code",
   "execution_count": 26,
   "metadata": {},
   "outputs": [
    {
     "data": {
      "text/plain": [
       "(2205715,)"
      ]
     },
     "execution_count": 26,
     "metadata": {},
     "output_type": "execute_result"
    }
   ],
   "source": [
    "AMZN_midprice.shape"
   ]
  },
  {
   "cell_type": "code",
   "execution_count": 32,
   "metadata": {},
   "outputs": [
    {
     "name": "stdout",
     "output_type": "stream",
     "text": [
      "index where no next price move = [      0       2       3 ... 2205712 2205713 2205714]\n",
      "(189934, 1)\n"
     ]
    }
   ],
   "source": [
    "AMZN_pricemove,index=delet_nopricemove(AMZN_midprice)"
   ]
  },
  {
   "cell_type": "code",
   "execution_count": 33,
   "metadata": {},
   "outputs": [
    {
     "data": {
      "text/plain": [
       "(189934, 40)"
      ]
     },
     "execution_count": 33,
     "metadata": {},
     "output_type": "execute_result"
    }
   ],
   "source": [
    "AMZN_order=np.delete(AMZN_7Days,index,0)\n",
    "AMZN_order.shape"
   ]
  },
  {
   "cell_type": "code",
   "execution_count": 44,
   "metadata": {
    "scrolled": true
   },
   "outputs": [
    {
     "name": "stdout",
     "output_type": "stream",
     "text": [
      "(151907, 50, 40)\n",
      "(151907, 50, 40)\n"
     ]
    }
   ],
   "source": [
    "AMZN_x_train_scaled,AMZN_x_valid_scaled,AMZN_x_test_scaled,AMZN_y_train,AMZN_y_valid,AMZN_y_test=data_preparation(AMZN_order,AMZN_pricemove,50)"
   ]
  },
  {
   "cell_type": "code",
   "execution_count": 45,
   "metadata": {},
   "outputs": [],
   "source": [
    "with open('Desktop/Project 4 - High Frequency Trading/Amazondata/AMZN_X_train.txt', 'w') as outfile:\n",
    "    for slice_2d in AMZN_x_train_scaled:\n",
    "        np.savetxt(outfile, slice_2d)\n"
   ]
  },
  {
   "cell_type": "code",
   "execution_count": 50,
   "metadata": {},
   "outputs": [],
   "source": [
    "save_to_2dtxt('Desktop/Project 4 - High Frequency Trading/Amazondata/AMZN_x_train.txt',AMZN_x_train_scaled)\n",
    "save_to_2dtxt('Desktop/Project 4 - High Frequency Trading/Amazondata/AMZN_x_valid.txt',AMZN_x_valid_scaled)\n",
    "save_to_2dtxt('Desktop/Project 4 - High Frequency Trading/Amazondata/AMZN_x_test.txt',AMZN_x_test_scaled)\n",
    "save_to_2dtxt('Desktop/Project 4 - High Frequency Trading/Amazondata/AMZN_y_train.txt',AMZN_y_train)\n",
    "save_to_2dtxt('Desktop/Project 4 - High Frequency Trading/Amazondata/AMZN_y_valid.txt',AMZN_y_valid)\n",
    "save_to_2dtxt('Desktop/Project 4 - High Frequency Trading/Amazondata/AMZN_y_test.txt',AMZN_y_test)"
   ]
  },
  {
   "cell_type": "code",
   "execution_count": 46,
   "metadata": {},
   "outputs": [],
   "source": [
    "new_data = np.loadtxt('Desktop/Project 4 - High Frequency Trading/Amazondata/AMZN_X_train.txt')\n",
    "new_data=new_data.reshape(AMZN_x_train_scaled.shape)\n",
    "assert np.all(new_data == AMZN_x_train_scaled)"
   ]
  },
  {
   "cell_type": "markdown",
   "metadata": {},
   "source": [
    "AAPL data"
   ]
  },
  {
   "cell_type": "code",
   "execution_count": 51,
   "metadata": {},
   "outputs": [],
   "source": [
    "AAPL1=import_orderbook('Desktop/Project 4 - High Frequency Trading/_data_dwn_32_231__AAPL_2012-06-22_2012-06-30_50/AAPL_2012-06-22_34200000_57600000_orderbook_50.csv',\n",
    "                       'Desktop/Project 4 - High Frequency Trading/_data_dwn_32_231__AAPL_2012-06-22_2012-06-30_50/AAPL_2012-06-22_34200000_57600000_message_50.csv')\n",
    "AAPL2=import_orderbook('Desktop/Project 4 - High Frequency Trading/_data_dwn_32_231__AAPL_2012-06-22_2012-06-30_50/AAPL_2012-06-25_34200000_57600000_orderbook_50.csv',\n",
    "                       'Desktop/Project 4 - High Frequency Trading/_data_dwn_32_231__AAPL_2012-06-22_2012-06-30_50/AAPL_2012-06-25_34200000_57600000_message_50.csv')\n",
    "AAPL3=import_orderbook('Desktop/Project 4 - High Frequency Trading/_data_dwn_32_231__AAPL_2012-06-22_2012-06-30_50/AAPL_2012-06-26_34200000_57600000_orderbook_50.csv',\n",
    "                       'Desktop/Project 4 - High Frequency Trading/_data_dwn_32_231__AAPL_2012-06-22_2012-06-30_50/AAPL_2012-06-26_34200000_57600000_message_50.csv')\n",
    "AAPL4=import_orderbook('Desktop/Project 4 - High Frequency Trading/_data_dwn_32_231__AAPL_2012-06-22_2012-06-30_50/AAPL_2012-06-27_34200000_57600000_orderbook_50.csv',\n",
    "                       'Desktop/Project 4 - High Frequency Trading/_data_dwn_32_231__AAPL_2012-06-22_2012-06-30_50/AAPL_2012-06-27_34200000_57600000_message_50.csv')\n",
    "AAPL5=import_orderbook('Desktop/Project 4 - High Frequency Trading/_data_dwn_32_231__AAPL_2012-06-22_2012-06-30_50/AAPL_2012-06-28_34200000_57600000_orderbook_50.csv',\n",
    "                       'Desktop/Project 4 - High Frequency Trading/_data_dwn_32_231__AAPL_2012-06-22_2012-06-30_50/AAPL_2012-06-28_34200000_57600000_message_50.csv')\n",
    "AAPL6=import_orderbook('Desktop/Project 4 - High Frequency Trading/_data_dwn_32_231__AAPL_2012-06-22_2012-06-30_50/AAPL_2012-06-29_34200000_57600000_orderbook_50.csv',\n",
    "                       'Desktop/Project 4 - High Frequency Trading/_data_dwn_32_231__AAPL_2012-06-22_2012-06-30_50/AAPL_2012-06-29_34200000_57600000_message_50.csv')\n",
    "AAPL_6Days=np.concatenate((AAPL1,AAPL2,AAPL3,AAPL4,AAPL5,AAPL6))\n"
   ]
  },
  {
   "cell_type": "code",
   "execution_count": 53,
   "metadata": {},
   "outputs": [
    {
     "name": "stdout",
     "output_type": "stream",
     "text": [
      "index where no next price move = [      0       1       3 ... 2339065 2339066 2339067]\n",
      "(300735, 1)\n"
     ]
    },
    {
     "data": {
      "text/plain": [
       "(300735, 40)"
      ]
     },
     "execution_count": 53,
     "metadata": {},
     "output_type": "execute_result"
    }
   ],
   "source": [
    "AAPL_midprice=(AAPL_6Days[:,0]+AAPL_6Days[:,2])/2\n",
    "AAPL_pricemove,index=delet_nopricemove(AAPL_midprice)\n",
    "AAPL_order=np.delete(AAPL_6Days,index,0)\n",
    "AAPL_order.shape"
   ]
  },
  {
   "cell_type": "code",
   "execution_count": 54,
   "metadata": {},
   "outputs": [
    {
     "name": "stdout",
     "output_type": "stream",
     "text": [
      "(240548, 50, 40)\n",
      "(240548, 50, 40)\n"
     ]
    }
   ],
   "source": [
    "AAPL_x_train_scaled,AAPL_x_valid_scaled,AAPL_x_test_scaled,AAPL_y_train,AAPL_y_valid,AAPL_y_test=data_preparation(AAPL_order,AAPL_pricemove,50)\n"
   ]
  },
  {
   "cell_type": "code",
   "execution_count": 55,
   "metadata": {},
   "outputs": [],
   "source": [
    "save_to_2dtxt('Desktop/Project 4 - High Frequency Trading/AAPLdata/AAPL_x_train.txt',AAPL_x_train_scaled)\n",
    "save_to_2dtxt('Desktop/Project 4 - High Frequency Trading/AAPLdata/AAPL_x_valid.txt',AAPL_x_valid_scaled)\n",
    "save_to_2dtxt('Desktop/Project 4 - High Frequency Trading/AAPLdata/AAPL_x_test.txt',AAPL_x_test_scaled)\n",
    "save_to_2dtxt('Desktop/Project 4 - High Frequency Trading/AAPLdata/AAPL_y_train.txt',AAPL_y_train)\n",
    "save_to_2dtxt('Desktop/Project 4 - High Frequency Trading/AAPLdata/AAPL_y_valid.txt',AAPL_y_valid)\n",
    "save_to_2dtxt('Desktop/Project 4 - High Frequency Trading/AAPLdata/AAPL_y_test.txt',AAPL_y_test)"
   ]
  },
  {
   "cell_type": "markdown",
   "metadata": {},
   "source": [
    "FARO data"
   ]
  },
  {
   "cell_type": "code",
   "execution_count": null,
   "metadata": {},
   "outputs": [],
   "source": [
    "FARO1=import_orderbook('Desktop/Project 4 - High Frequency Trading/_data_dwn_32_231__AAPL_2012-06-22_2012-06-30_50/AAPL_2012-06-22_34200000_57600000_orderbook_50.csv',\n",
    "                       'Desktop/Project 4 - High Frequency Trading/_data_dwn_32_231__AAPL_2012-06-22_2012-06-30_50/AAPL_2012-06-22_34200000_57600000_message_50.csv')\n",
    "FARO2=import_orderbook('Desktop/Project 4 - High Frequency Trading/_data_dwn_32_231__AAPL_2012-06-22_2012-06-30_50/AAPL_2012-06-25_34200000_57600000_orderbook_50.csv',\n",
    "                       'Desktop/Project 4 - High Frequency Trading/_data_dwn_32_231__AAPL_2012-06-22_2012-06-30_50/AAPL_2012-06-25_34200000_57600000_message_50.csv')\n",
    "FARO3=import_orderbook('Desktop/Project 4 - High Frequency Trading/_data_dwn_32_231__AAPL_2012-06-22_2012-06-30_50/AAPL_2012-06-26_34200000_57600000_orderbook_50.csv',\n",
    "                       'Desktop/Project 4 - High Frequency Trading/_data_dwn_32_231__AAPL_2012-06-22_2012-06-30_50/AAPL_2012-06-26_34200000_57600000_message_50.csv')\n",
    "FARO4=import_orderbook('Desktop/Project 4 - High Frequency Trading/_data_dwn_32_231__AAPL_2012-06-22_2012-06-30_50/AAPL_2012-06-27_34200000_57600000_orderbook_50.csv',\n",
    "                       'Desktop/Project 4 - High Frequency Trading/_data_dwn_32_231__AAPL_2012-06-22_2012-06-30_50/AAPL_2012-06-27_34200000_57600000_message_50.csv')\n",
    "FARO5=import_orderbook('Desktop/Project 4 - High Frequency Trading/_data_dwn_32_231__AAPL_2012-06-22_2012-06-30_50/AAPL_2012-06-28_34200000_57600000_orderbook_50.csv',\n",
    "                       'Desktop/Project 4 - High Frequency Trading/_data_dwn_32_231__AAPL_2012-06-22_2012-06-30_50/AAPL_2012-06-28_34200000_57600000_message_50.csv')\n",
    "FARO6=import_orderbook('Desktop/Project 4 - High Frequency Trading/_data_dwn_32_231__AAPL_2012-06-22_2012-06-30_50/AAPL_2012-06-29_34200000_57600000_orderbook_50.csv',\n",
    "                       'Desktop/Project 4 - High Frequency Trading/_data_dwn_32_231__AAPL_2012-06-22_2012-06-30_50/AAPL_2012-06-29_34200000_57600000_message_50.csv')\n",
    "FARO_6Days=np.concatenate((FARO1,FARO2,FARO3,FARO4,FARO5,FARO6))\n"
   ]
  },
  {
   "cell_type": "code",
   "execution_count": null,
   "metadata": {},
   "outputs": [],
   "source": [
    "FARO_midprice=(FARO_6Days[:,0]+FARO_6Days[:,2])/2\n",
    "FARO_pricemove,index=delet_nopricemove(FARO_midprice)\n",
    "FARO_order=np.delete(FARO_7Days,index,0)\n",
    "FARO_order.shape"
   ]
  },
  {
   "cell_type": "code",
   "execution_count": null,
   "metadata": {},
   "outputs": [],
   "source": [
    "FARO_x_train_scaled,FARO_x_valid_scaled,FARO_x_test_scaled,FARO_y_train,FARO_y_valid,FARO_y_test=data_preparation(FARO_order,FARO_pricemove,50)\n"
   ]
  },
  {
   "cell_type": "code",
   "execution_count": null,
   "metadata": {},
   "outputs": [],
   "source": [
    "save_to_2dtxt('Desktop/Project 4 - High Frequency Trading/AAPLdata/AAPL_x_train.txt',AAPL_x_train_scaled)\n",
    "save_to_2dtxt('Desktop/Project 4 - High Frequency Trading/AAPLdata/AAPL_x_valid.txt',AAPL_x_valid_scaled)\n",
    "save_to_2dtxt('Desktop/Project 4 - High Frequency Trading/AAPLdata/AAPL_x_test.txt',AAPL_x_test_scaled)\n",
    "save_to_2dtxt('Desktop/Project 4 - High Frequency Trading/AAPLdata/AAPL_y_train.txt',AAPL_y_train)\n",
    "save_to_2dtxt('Desktop/Project 4 - High Frequency Trading/AAPLdata/AAPL_y_valid.txt',AAPL_y_valid)\n",
    "save_to_2dtxt('Desktop/Project 4 - High Frequency Trading/AAPLdata/AAPL_y_test.txt',AAPL_y_test)"
   ]
  },
  {
   "cell_type": "markdown",
   "metadata": {},
   "source": [
    "# Data contains the signatures gathering information at no pricemove timestep\n"
   ]
  },
  {
   "cell_type": "code",
   "execution_count": 71,
   "metadata": {},
   "outputs": [],
   "source": [
    "def OrderSig_NoPricemove2d(UpdatedOrder,OriginalOrder,midprice,d=4):\n",
    "    Y=price_move(midprice)\n",
    "    index1,=np.where(Y[:,0]!=2)\n",
    "\n",
    "    print('index where price moves = {}'.format(index1))\n",
    "\n",
    "    n=UpdatedOrder.shape[0]\n",
    "\n",
    "    dim=ts.logsigdim(2,d)\n",
    "    OrderSig=np.zeros([n-1,2*dim+UpdatedOrder.shape[1]])\n",
    "\n",
    "    for i in range(n-1):\n",
    "        length=index1[i+1]+1-index1[i]\n",
    "        ask_seq=OriginalOrder[index1[i]:index1[i+1]+1,0:2]\n",
    "        bid_seq=OriginalOrder[index1[i]:index1[i+1]+1,2:4]\n",
    "        ask_sig,ask_logsig=DataToSignature1(ask_seq.reshape(1,length,2),d)\n",
    "        bid_sig,bid_logsig=DataToSignature1(bid_seq.reshape(1,length,2),d)\n",
    "        OrderSig[i,:]=np.concatenate((OriginalOrder[i+1,:].reshape(1,40),np.concatenate((ask_logsig,bid_logsig),1)),axis=1)\n",
    "    return(OrderSig)"
   ]
  },
  {
   "cell_type": "code",
   "execution_count": 58,
   "metadata": {},
   "outputs": [],
   "source": [
    "def data_preparation1(Order,pricemove,p):\n",
    "    labels = keras.utils.to_categorical(pricemove, num_classes=2)\n",
    "    dataX=InputData(Order,p)\n",
    "    dataY=labels[(p+1):,]\n",
    "    X_train, X_ValTest, y_train, y_ValTest = train_test_split( dataX, dataY, test_size=0.2, shuffle = False)\n",
    "    X_valid,X_test,y_valid, y_test= train_test_split(X_ValTest,y_ValTest,test_size=0.5,shuffle=False)\n",
    "    X_train_scaled, X_test_scaled = Normalize3D_tensor_Data(X_train, X_test)\n",
    "    X_train_scaled, X_valid_scaled = Normalize3D_tensor_Data(X_train, X_valid)\n",
    "    return(X_train_scaled,X_valid_scaled,X_test_scaled,y_train,y_valid,y_test)"
   ]
  },
  {
   "cell_type": "code",
   "execution_count": 73,
   "metadata": {},
   "outputs": [
    {
     "name": "stdout",
     "output_type": "stream",
     "text": [
      "index where price moves = [      2       7       9 ... 2339049 2339057 2339058]\n"
     ]
    }
   ],
   "source": [
    "AAPLOrderSig=OrderSig_NoPricemove2d(AAPL_order,AAPL_6Days,AAPL_midprice,d=4)"
   ]
  },
  {
   "cell_type": "code",
   "execution_count": 76,
   "metadata": {},
   "outputs": [
    {
     "name": "stdout",
     "output_type": "stream",
     "text": [
      "(240547, 50, 56)\n",
      "(240547, 50, 56)\n"
     ]
    }
   ],
   "source": [
    "AAPLsig2d_x_train_scaled,AAPLsig2d_x_valid_scaled,AAPLsig2d_x_test_scaled,AAPLsig2d_y_train,AAPLsig2d_y_valid,AAPLsig2d_y_test=data_preparation1(AAPLOrderSig,AAPL_pricemove,50)\n"
   ]
  },
  {
   "cell_type": "code",
   "execution_count": 77,
   "metadata": {},
   "outputs": [],
   "source": [
    "save_to_2dtxt('Desktop/Project 4 - High Frequency Trading/AAPLdata/AAPLsig2d_x_train.txt',AAPLsig2d_x_train_scaled)\n",
    "save_to_2dtxt('Desktop/Project 4 - High Frequency Trading/AAPLdata/AAPLsig2d_x_valid.txt',AAPLsig2d_x_valid_scaled)\n",
    "save_to_2dtxt('Desktop/Project 4 - High Frequency Trading/AAPLdata/AAPLsig2d_x_test.txt',AAPLsig2d_x_test_scaled)\n",
    "save_to_2dtxt('Desktop/Project 4 - High Frequency Trading/AAPLdata/AAPLsig2d_y_train.txt',AAPLsig2d_y_train)\n",
    "save_to_2dtxt('Desktop/Project 4 - High Frequency Trading/AAPLdata/AAPLsig2d_y_valid.txt',AAPLsig2d_y_valid)\n",
    "save_to_2dtxt('Desktop/Project 4 - High Frequency Trading/AAPLdata/AAPLsig2d_y_test.txt',AAPLsig2d_y_test)"
   ]
  },
  {
   "cell_type": "code",
   "execution_count": null,
   "metadata": {},
   "outputs": [],
   "source": [
    "def OrderSig_NoPricemove4d(UpdatedOrder,OriginalOrder,midprice,d=4):\n",
    "    Y=price_move(midprice)\n",
    "    index1,=np.where(Y[:,0]!=2)\n",
    "\n",
    "    print('index where price moves = {}'.format(index1))\n",
    "\n",
    "    n=UpdatedOrder.shape[0]\n",
    "\n",
    "    dim=ts.logsigdim(4,d)\n",
    "    OrderSig=np.zeros([n-1,dim+UpdatedOrder.shape[1]])\n",
    "\n",
    "    for i in range(n-1):\n",
    "        length=index1[i+1]+1-index1[i]\n",
    "        BidAskSeq=OriginalOrder[index1[i]:index1[i+1]+1,:4]\n",
    "        BidAsk_sig,BidAsk_logsig=DataToSignature1(BidAskSeq.reshape(1,length,4),d)\n",
    "\n",
    "        OrderSig[i,:]=np.concatenate((OriginalOrder[i+1,:].reshape(1,40),BidAsk_logsig),axis=1)\n",
    "    return(OrderSig)"
   ]
  },
  {
   "cell_type": "code",
   "execution_count": null,
   "metadata": {},
   "outputs": [],
   "source": []
  },
  {
   "cell_type": "code",
   "execution_count": null,
   "metadata": {},
   "outputs": [],
   "source": [
    "dataY1=OutputData(labels,50)\n",
    "print(dataY1.shape)\n",
    "print(dataX.shape)"
   ]
  },
  {
   "cell_type": "code",
   "execution_count": null,
   "metadata": {},
   "outputs": [],
   "source": [
    "from sklearn.model_selection import train_test_split\n",
    "# It is import to set the shuffle flag to be False, as we would like to use the first 90% of data for the training and the rest for testing. \n",
    "# The default flag of train_test_split is True, in which case the testing data is randomly selected from the whole data.\n",
    "\n",
    "X_train, X_ValTest, y_train, y_ValTest = train_test_split( dataX, dataY, test_size=0.2, shuffle = False)\n",
    "X_valid,X_test,y_valid, y_test= train_test_split(X_ValTest,y_ValTest,test_size=0.5,shuffle=False)"
   ]
  },
  {
   "cell_type": "code",
   "execution_count": null,
   "metadata": {},
   "outputs": [],
   "source": [
    "#X_train_scaled, X_valid_scaled = Normalize3D_tensor_Data(X_train, X_valid)\n",
    "X_train_scaled, X_test_scaled = Normalize3D_tensor_Data(X_train, X_test)\n",
    "X_train_scaled, X_valid_scaled = Normalize3D_tensor_Data(X_train, X_valid)\n",
    "#print(X_train_scaled)"
   ]
  },
  {
   "cell_type": "markdown",
   "metadata": {},
   "source": [
    "# Functions"
   ]
  },
  {
   "cell_type": "code",
   "execution_count": 14,
   "metadata": {},
   "outputs": [],
   "source": [
    "def InputData(X,p):\n",
    "    n=X.shape[0]\n",
    "    Y=np.zeros([n-p,p,X.shape[1]])\n",
    "    for i in range(n-p):\n",
    "        Y[i,:,:]=X[i:(i+p),:]\n",
    "    return(Y)\n",
    "def OutputData(X,P):\n",
    "    n=X.shape[0]\n",
    "    Y=np.zeros([n-p,p,X.shape[1]])\n",
    "    for i in range(n-p):\n",
    "        Y[i,:,:]=X[i+1:(i+p+1),:]\n",
    "    return(Y)\n",
    "def InputData1(X,p,sub_interval):\n",
    "    n=X.shape[0]\n",
    "    Y=np.zeros([int((n-p)/sub_interval),int(p/sub_interval),X.shape[1]])\n",
    "    for i in range(int((n-p)/sub_interval)):\n",
    "        Y[i,:,:]=X[i*sub_interval:(i*sub_interval+p):sub_interval,:]\n",
    "    return(Y)"
   ]
  },
  {
   "cell_type": "code",
   "execution_count": 15,
   "metadata": {},
   "outputs": [],
   "source": [
    "from sklearn import preprocessing\n",
    "\n",
    "def Normalize3D_tensor_Data(X_train, X_test):\n",
    "    dim_train = np.shape(X_train)\n",
    "    print(dim_train)\n",
    "    X_train_scaled = np.zeros(np.shape(X_train), dtype = float)\n",
    "    X_test_scaled = np.zeros(np.shape(X_test), dtype = float)\n",
    "    for i in range(dim_train[1]):\n",
    "       #for j in range(dim_train[2]):\n",
    "        scaler = preprocessing.StandardScaler().fit(X_train[:, i, :])\n",
    "        X_train_scaled[:, i, :] = scaler.transform(X_train[:, i, :])  \n",
    "        X_test_scaled[:, i, :] = scaler.transform(X_test[:, i, :])  \n",
    "    return X_train_scaled, X_test_scaled"
   ]
  },
  {
   "cell_type": "code",
   "execution_count": 16,
   "metadata": {},
   "outputs": [],
   "source": [
    "def lstm0(nodes,p1,inputsize,rec_dropout,dropout):\n",
    "    model=Sequential()\n",
    "    model.add(LSTM(nodes,recurrent_dropout=rec_dropout,dropout=dropout,input_shape=(p1,inputsize),))\n",
    "    #model.add(LSTM(nodes,return_sequences=True,recurrent_dropout=rec_dropout,dropout=dropout))\n",
    "    #model.add(LSTM(nodes,recurrent_dropout=rec_dropout,dropout=dropout))\n",
    "    model.add(Dense(20, activation='relu'))\n",
    "    model.add(Dense(2,activation='softmax'))\n",
    "    adam=keras.optimizers.Adam(lr=0.001, beta_1=0.9, beta_2=0.999, epsilon=None, decay=0.0, amsgrad=False)\n",
    "    model.compile(loss='categorical_crossentropy', optimizer='adam',metrics=[metrics.categorical_accuracy])\n",
    "    return(model)"
   ]
  },
  {
   "cell_type": "code",
   "execution_count": 17,
   "metadata": {},
   "outputs": [],
   "source": [
    "def lstm1(nodes,p1,inputsize,rec_dropout,dropout):\n",
    "    model=Sequential()\n",
    "    model.add(LSTM(nodes,return_sequences=True,recurrent_dropout=rec_dropout,dropout=dropout,input_shape=(p1,inputsize),))\n",
    "    model.add(LSTM(nodes,return_sequences=True,recurrent_dropout=rec_dropout,dropout=dropout))\n",
    "    model.add(LSTM(nodes,recurrent_dropout=rec_dropout,dropout=dropout))\n",
    "    model.add(Dense(50, activation='relu'))\n",
    "    model.add(Dense(2,activation='softmax'))\n",
    "    adam=keras.optimizers.Adam(lr=0.01, beta_1=0.9, beta_2=0.999, epsilon=None, decay=0.0, amsgrad=False)\n",
    "    model.compile(loss='categorical_crossentropy', optimizer='adam',metrics=[metrics.categorical_accuracy])\n",
    "    return(model)"
   ]
  },
  {
   "cell_type": "code",
   "execution_count": 18,
   "metadata": {},
   "outputs": [],
   "source": [
    "def lstm2(nodes,p1,inputsize,rec_dropout,dropout):\n",
    "    model=Sequential()\n",
    "    model.add(LSTM(nodes,return_sequences=True,recurrent_dropout=rec_dropout,dropout=dropout,input_shape=(p1,inputsize),))\n",
    "    #model.add(LSTM(nodes,return_sequences=True,recurrent_dropout=rec_dropout,dropout=dropout))\n",
    "    #model.add(LSTM(nodes,return_sequences=True,recurrent_dropout=rec_dropout,dropout=dropout))\n",
    "    model.add(Dense(50, activation='relu'))\n",
    "    model.add(Dense(2,activation='softmax'))\n",
    "    adam=keras.optimizers.Adam(lr=0.01, beta_1=0.9, beta_2=0.999, epsilon=None, decay=0.0, amsgrad=False)\n",
    "    model.compile(loss='categorical_crossentropy', optimizer='adam',metrics=[metrics.categorical_accuracy])\n",
    "    return(model)"
   ]
  },
  {
   "cell_type": "code",
   "execution_count": 19,
   "metadata": {},
   "outputs": [],
   "source": [
    "def DataToSignature1(data,d):\n",
    "    sigdim=ts.sigdim(data.shape[2],d) #length of the signature with degree d\n",
    "    logsigdim=ts.logsigdim(data.shape[2], d) #length of the logsignature with degree d\n",
    "    sigX=np.zeros([data.shape[0],sigdim])\n",
    "    logsigX=np.zeros([data.shape[0],logsigdim])\n",
    "    for i in range(data.shape[0]):\n",
    "        sigX[i,:]=ts.stream2sig(data[i,:,:],d)\n",
    "        logsigX[i,:]=ts.stream2logsig(data[i,:,:],d)\n",
    "    return(sigX,logsigX)  \n",
    "    "
   ]
  },
  {
   "cell_type": "code",
   "execution_count": 20,
   "metadata": {},
   "outputs": [],
   "source": [
    "def DatatoSignature2(data,d):\n",
    "    sigdim=ts.sigdim(2,d)\n",
    "    logsigdim=ts.logsigdim(2,d)\n",
    "    sigX=np.zeros([data.shape[0],10*sigdim])\n",
    "    logsigX=np.zeros([data.shape[0],10*logsigdim])\n",
    "    for i in range(data.shape[0]):\n",
    "        for j in range(10):\n",
    "            sigX[i,j*sigdim:(j+1)*sigdim]=ts.stream2sig(data[i,:,j:j+2],d)\n",
    "            logsigX[i,j*logsigdim:(j+1)*logsigdim]=ts.stream2logsig(data[i,:,j:j+2],d)\n",
    "    return(sigX,logsigX)"
   ]
  },
  {
   "cell_type": "markdown",
   "metadata": {},
   "source": [
    "# Signature"
   ]
  },
  {
   "cell_type": "code",
   "execution_count": 62,
   "metadata": {},
   "outputs": [
    {
     "name": "stdout",
     "output_type": "stream",
     "text": [
      "Requirement already satisfied: esig in ./anaconda3/lib/python3.6/site-packages (0.6.31)\n",
      "Requirement already satisfied: numpy>=1.7 in ./anaconda3/lib/python3.6/site-packages (from esig) (1.14.3)\n",
      "\u001b[33mYou are using pip version 18.0, however version 19.0.2 is available.\n",
      "You should consider upgrading via the 'pip install --upgrade pip' command.\u001b[0m\n"
     ]
    }
   ],
   "source": [
    "!pip install esig"
   ]
  },
  {
   "cell_type": "code",
   "execution_count": 63,
   "metadata": {},
   "outputs": [
    {
     "name": "stderr",
     "output_type": "stream",
     "text": [
      "......."
     ]
    },
    {
     "name": "stdout",
     "output_type": "stream",
     "text": [
      "path is \n",
      "[[ 0.          1.        ]\n",
      " [ 0.84147098  0.54030231]\n",
      " [ 0.90929743 -0.41614684]\n",
      " [ 0.14112001 -0.9899925 ]\n",
      " [-0.7568025  -0.65364362]\n",
      " [-0.95892427  0.28366219]\n",
      " [-0.2794155   0.96017029]\n",
      " [ 0.6569866   0.75390225]\n",
      " [ 0.98935825 -0.14550003]\n",
      " [ 0.41211849 -0.91113026]]\n",
      "signature feature set\n",
      "[ 1.          0.41211849 -1.91113026  0.08492082 -3.97436624  3.18675413\n",
      "  1.82620944]\n"
     ]
    },
    {
     "name": "stderr",
     "output_type": "stream",
     "text": [
      "\n",
      "----------------------------------------------------------------------\n",
      "Ran 7 tests in 0.060s\n",
      "\n",
      "OK\n"
     ]
    }
   ],
   "source": [
    "import esig as esig\n",
    "import esig.tests as tests\n",
    "tests.run_tests()\n",
    "import esig.tosig as ts\n",
    "#help(ts)\n",
    "import numpy as np\n",
    "\n",
    "\n",
    "T = 10\n",
    "d = 2\n",
    "path = np.zeros((T, d), float) # d-dimensional time series of length T\n",
    "for i in range(T):\n",
    "    path[i, 0] = np.sin(i)\n",
    "    path[i, 1] = np.cos(i)\n",
    "\n",
    "print('path is ')\n",
    "print(path)\n",
    "\n",
    "\n",
    "sig_deg = 2 # degree of the siganture\n",
    "dim = ts.sigdim(d, sig_deg ) # the signature dimension\n",
    "siganture_feature = ts.stream2sig(path, sig_deg)\n",
    "print('signature feature set')\n",
    "print(siganture_feature)"
   ]
  },
  {
   "cell_type": "markdown",
   "metadata": {},
   "source": [
    "#  3 Layers LSTM followed by a softmax, Crossentropy loss. Only use original orderbook data, duplicate the model in recent paper."
   ]
  },
  {
   "cell_type": "code",
   "execution_count": 25,
   "metadata": {},
   "outputs": [],
   "source": [
    "labels = keras.utils.to_categorical(Y1, num_classes=2)"
   ]
  },
  {
   "cell_type": "code",
   "execution_count": 26,
   "metadata": {},
   "outputs": [
    {
     "data": {
      "text/plain": [
       "array([[1., 0.],\n",
       "       [0., 1.],\n",
       "       [1., 0.],\n",
       "       ...,\n",
       "       [1., 0.],\n",
       "       [0., 1.],\n",
       "       [1., 0.]], dtype=float32)"
      ]
     },
     "execution_count": 26,
     "metadata": {},
     "output_type": "execute_result"
    }
   ],
   "source": [
    "labels"
   ]
  },
  {
   "cell_type": "code",
   "execution_count": 27,
   "metadata": {},
   "outputs": [
    {
     "name": "stdout",
     "output_type": "stream",
     "text": [
      "(189884, 2)\n"
     ]
    }
   ],
   "source": [
    "p=50\n",
    "dataX=InputData(orderbook1,50)\n",
    "dataY=labels[50:,]\n",
    "print(dataY.shape)"
   ]
  },
  {
   "cell_type": "code",
   "execution_count": 28,
   "metadata": {},
   "outputs": [
    {
     "name": "stdout",
     "output_type": "stream",
     "text": [
      "(189884, 50, 2)\n",
      "(189884, 50, 40)\n"
     ]
    }
   ],
   "source": [
    "dataY1=OutputData(labels,50)\n",
    "print(dataY1.shape)\n",
    "print(dataX.shape)"
   ]
  },
  {
   "cell_type": "code",
   "execution_count": 36,
   "metadata": {},
   "outputs": [],
   "source": [
    "from sklearn.model_selection import train_test_split\n",
    "# It is import to set the shuffle flag to be False, as we would like to use the first 90% of data for the training and the rest for testing. \n",
    "# The default flag of train_test_split is True, in which case the testing data is randomly selected from the whole data.\n",
    "\n",
    "X_train, X_ValTest, y_train, y_ValTest = train_test_split( dataX, dataY, test_size=0.2, shuffle = False)\n",
    "X_valid,X_test,y_valid, y_test= train_test_split(X_ValTest,y_ValTest,test_size=0.5,shuffle=False)"
   ]
  },
  {
   "cell_type": "code",
   "execution_count": 37,
   "metadata": {},
   "outputs": [
    {
     "name": "stdout",
     "output_type": "stream",
     "text": [
      "(151907, 50, 40)\n",
      "(151907, 50, 40)\n"
     ]
    }
   ],
   "source": [
    "#X_train_scaled, X_valid_scaled = Normalize3D_tensor_Data(X_train, X_valid)\n",
    "X_train_scaled, X_test_scaled = Normalize3D_tensor_Data(X_train, X_test)\n",
    "X_train_scaled, X_valid_scaled = Normalize3D_tensor_Data(X_train, X_valid)\n",
    "#print(X_train_scaled)"
   ]
  },
  {
   "cell_type": "code",
   "execution_count": 34,
   "metadata": {},
   "outputs": [],
   "source": [
    "#model1=lstm0(30,50,40,0.2,0.2)\n",
    "model1 = load_model('best_model1.h5')"
   ]
  },
  {
   "cell_type": "code",
   "execution_count": 38,
   "metadata": {
    "scrolled": false
   },
   "outputs": [
    {
     "name": "stdout",
     "output_type": "stream",
     "text": [
      "Train on 151907 samples, validate on 18988 samples\n",
      "Epoch 1/30\n",
      "151907/151907 [==============================] - 65s 428us/step - loss: 0.6572 - categorical_accuracy: 0.5982 - val_loss: 0.6756 - val_categorical_accuracy: 0.5777\n",
      "Epoch 2/30\n",
      "151907/151907 [==============================] - 51s 336us/step - loss: 0.6576 - categorical_accuracy: 0.5980 - val_loss: 0.6752 - val_categorical_accuracy: 0.5794\n",
      "Epoch 3/30\n",
      "151907/151907 [==============================] - 52s 343us/step - loss: 0.6573 - categorical_accuracy: 0.5984 - val_loss: 0.6749 - val_categorical_accuracy: 0.5819\n",
      "Epoch 4/30\n",
      "151907/151907 [==============================] - 52s 340us/step - loss: 0.6567 - categorical_accuracy: 0.6000 - val_loss: 0.6746 - val_categorical_accuracy: 0.5831\n",
      "Epoch 5/30\n",
      "151907/151907 [==============================] - 52s 345us/step - loss: 0.6566 - categorical_accuracy: 0.6001 - val_loss: 0.6745 - val_categorical_accuracy: 0.5819\n",
      "Epoch 6/30\n",
      "151907/151907 [==============================] - 52s 344us/step - loss: 0.6566 - categorical_accuracy: 0.6002 - val_loss: 0.6759 - val_categorical_accuracy: 0.5786\n",
      "Epoch 7/30\n",
      "151907/151907 [==============================] - 54s 353us/step - loss: 0.6564 - categorical_accuracy: 0.5997 - val_loss: 0.6757 - val_categorical_accuracy: 0.5798\n",
      "Epoch 8/30\n",
      "151907/151907 [==============================] - 52s 344us/step - loss: 0.6557 - categorical_accuracy: 0.5998 - val_loss: 0.6744 - val_categorical_accuracy: 0.5828\n",
      "Epoch 9/30\n",
      "151907/151907 [==============================] - 52s 344us/step - loss: 0.6562 - categorical_accuracy: 0.5994 - val_loss: 0.6756 - val_categorical_accuracy: 0.5802\n",
      "Epoch 10/30\n",
      "151907/151907 [==============================] - 53s 346us/step - loss: 0.6559 - categorical_accuracy: 0.6000 - val_loss: 0.6773 - val_categorical_accuracy: 0.5765\n",
      "Epoch 11/30\n",
      "151907/151907 [==============================] - 53s 348us/step - loss: 0.6581 - categorical_accuracy: 0.5978 - val_loss: 0.6748 - val_categorical_accuracy: 0.5852\n",
      "Epoch 12/30\n",
      "151907/151907 [==============================] - 53s 349us/step - loss: 0.6561 - categorical_accuracy: 0.5995 - val_loss: 0.6754 - val_categorical_accuracy: 0.5821\n",
      "Epoch 13/30\n",
      "151907/151907 [==============================] - 54s 357us/step - loss: 0.6565 - categorical_accuracy: 0.5997 - val_loss: 0.6744 - val_categorical_accuracy: 0.5842\n",
      "Epoch 14/30\n",
      "151907/151907 [==============================] - 53s 349us/step - loss: 0.6553 - categorical_accuracy: 0.6006 - val_loss: 0.6757 - val_categorical_accuracy: 0.5809\n",
      "Epoch 15/30\n",
      "151907/151907 [==============================] - 53s 348us/step - loss: 0.6552 - categorical_accuracy: 0.6016 - val_loss: 0.6753 - val_categorical_accuracy: 0.5798\n",
      "Epoch 16/30\n",
      "151907/151907 [==============================] - 54s 353us/step - loss: 0.6550 - categorical_accuracy: 0.6003 - val_loss: 0.6745 - val_categorical_accuracy: 0.5813\n",
      "Epoch 17/30\n",
      "151907/151907 [==============================] - 53s 350us/step - loss: 0.6551 - categorical_accuracy: 0.6006 - val_loss: 0.6747 - val_categorical_accuracy: 0.5803\n",
      "Epoch 18/30\n",
      "151907/151907 [==============================] - 53s 350us/step - loss: 0.6554 - categorical_accuracy: 0.5999 - val_loss: 0.6753 - val_categorical_accuracy: 0.5841\n",
      "Epoch 19/30\n",
      "151907/151907 [==============================] - 53s 349us/step - loss: 0.6548 - categorical_accuracy: 0.6015 - val_loss: 0.6756 - val_categorical_accuracy: 0.5803\n",
      "Epoch 20/30\n",
      "151907/151907 [==============================] - 53s 351us/step - loss: 0.6552 - categorical_accuracy: 0.6020 - val_loss: 0.6751 - val_categorical_accuracy: 0.5810\n",
      "Epoch 21/30\n",
      "151907/151907 [==============================] - 53s 350us/step - loss: 0.6550 - categorical_accuracy: 0.6012 - val_loss: 0.6751 - val_categorical_accuracy: 0.5812\n",
      "Epoch 22/30\n",
      "151907/151907 [==============================] - 53s 351us/step - loss: 0.6550 - categorical_accuracy: 0.6006 - val_loss: 0.6739 - val_categorical_accuracy: 0.5832\n",
      "Epoch 23/30\n",
      "151907/151907 [==============================] - 54s 352us/step - loss: 0.6554 - categorical_accuracy: 0.6012 - val_loss: 0.6745 - val_categorical_accuracy: 0.5834\n",
      "Epoch 24/30\n",
      "151907/151907 [==============================] - 53s 350us/step - loss: 0.6547 - categorical_accuracy: 0.6017 - val_loss: 0.6735 - val_categorical_accuracy: 0.5859\n",
      "Epoch 25/30\n",
      "151907/151907 [==============================] - 53s 348us/step - loss: 0.6548 - categorical_accuracy: 0.6016 - val_loss: 0.6739 - val_categorical_accuracy: 0.5824\n",
      "Epoch 26/30\n",
      "151907/151907 [==============================] - 53s 349us/step - loss: 0.6542 - categorical_accuracy: 0.6026 - val_loss: 0.6750 - val_categorical_accuracy: 0.5849\n",
      "Epoch 27/30\n",
      "151907/151907 [==============================] - 53s 346us/step - loss: 0.6547 - categorical_accuracy: 0.6001 - val_loss: 0.6754 - val_categorical_accuracy: 0.5812\n",
      "Epoch 28/30\n",
      "151907/151907 [==============================] - 53s 346us/step - loss: 0.6550 - categorical_accuracy: 0.6019 - val_loss: 0.6763 - val_categorical_accuracy: 0.5811\n",
      "Epoch 29/30\n",
      "151907/151907 [==============================] - 53s 348us/step - loss: 0.6543 - categorical_accuracy: 0.6018 - val_loss: 0.6756 - val_categorical_accuracy: 0.5846\n",
      "Epoch 30/30\n",
      "151907/151907 [==============================] - 52s 344us/step - loss: 0.6540 - categorical_accuracy: 0.6018 - val_loss: 0.6761 - val_categorical_accuracy: 0.5817\n",
      "18989/18989 [==============================] - 9s 472us/step\n",
      "[0.6885144504220623, 0.5563747432881154]\n"
     ]
    }
   ],
   "source": [
    "callbacks = [EarlyStopping(monitor='val_loss', patience=10), ModelCheckpoint(filepath='best_model1.h5', monitor='val_loss', save_best_only=True)]\n",
    "hist1=model1.fit(X_train_scaled, y_train,validation_data=(X_valid_scaled,y_valid),callbacks=callbacks,batch_size=200, epochs=30, shuffle=False,verbose=1)\n",
    "model1 = load_model('best_model1.h5')\n",
    "scores1 = model1.evaluate(X_test_scaled, y_test, verbose=1)\n",
    "print(scores1)"
   ]
  },
  {
   "cell_type": "code",
   "execution_count": 39,
   "metadata": {},
   "outputs": [
    {
     "name": "stdout",
     "output_type": "stream",
     "text": [
      "dict_keys(['val_loss', 'val_categorical_accuracy', 'loss', 'categorical_accuracy'])\n"
     ]
    },
    {
     "data": {
      "image/png": "[encoded data removed]",
      "text/plain": [
       "<Figure size 1440x576 with 2 Axes>"
      ]
     },
     "metadata": {},
     "output_type": "display_data"
    }
   ],
   "source": [
    "print(hist1.history.keys())\n",
    "\n",
    "def plot_hist(hist):\n",
    "    plt.figure(figsize = (20, 8))\n",
    "    plt.subplot(121)\n",
    "    plt.plot(hist.history['loss'])\n",
    "    plt.plot(hist.history['val_loss'])\n",
    "    plt.legend(['train','test'])\n",
    "    plt.subplot(122)\n",
    "    plt.plot(hist.history['categorical_accuracy'])\n",
    "    plt.plot(hist.history['val_categorical_accuracy'])\n",
    "    plt.legend(['train','test'])\n",
    "  \n",
    "plot_hist(hist1)"
   ]
  },
  {
   "cell_type": "markdown",
   "metadata": {},
   "source": [
    "# Use Signature to summary the information where there is no price change# "
   ]
  },
  {
   "cell_type": "code",
   "execution_count": 29,
   "metadata": {},
   "outputs": [
    {
     "name": "stdout",
     "output_type": "stream",
     "text": [
      "index where price moves = [      1      32      44 ... 2205704 2205705 2205706]\n"
     ]
    }
   ],
   "source": [
    "index1,=np.where(Y[:,0]!=2)\n",
    "\n",
    "print('index where price moves = {}'.format(index1))\n",
    "\n",
    "d=4\n",
    "n=orderbook1.shape[0]\n",
    "\n",
    "dim=ts.logsigdim(2,d)\n",
    "UpdatedOrderbook=np.zeros([n-1,2*dim+orderbook1.shape[1]])\n",
    "\n",
    "for i in range(n-1):\n",
    "    length=index1[i+1]+1-index1[i]\n",
    "    ask_seq=np.concatenate((Orderbook_7days[index1[i]:index1[i+1]+1,0].reshape(length,1),Orderbook_7days[index1[i]:index1[i+1]+1,1].reshape(length,1)),1)\n",
    "    bid_seq=np.concatenate((Orderbook_7days[index1[i]:index1[i+1]+1,2].reshape(length,1),Orderbook_7days[index1[i]:index1[i+1]+1,3].reshape(length,1)),1)\n",
    "    ask_sig,ask_logsig=DataToSignature1(ask_seq.reshape(1,length,2),d)\n",
    "    bid_sig,bid_logsig=DataToSignature1(bid_seq.reshape(1,length,2),d)\n",
    "    UpdatedOrderbook[i,:]=np.concatenate((Orderbook_7days[i+1,:].reshape(1,40),np.concatenate((ask_logsig,bid_logsig),1)),axis=1)  "
   ]
  },
  {
   "cell_type": "code",
   "execution_count": 30,
   "metadata": {},
   "outputs": [
    {
     "name": "stdout",
     "output_type": "stream",
     "text": [
      "(189883, 50, 56)\n",
      "(189883, 2)\n"
     ]
    }
   ],
   "source": [
    "UpdatedX=InputData(UpdatedOrderbook,50)\n",
    "UpdatedY=labels[51:,]\n",
    "print(UpdatedX.shape)\n",
    "print(UpdatedY.shape)"
   ]
  },
  {
   "cell_type": "code",
   "execution_count": 32,
   "metadata": {},
   "outputs": [],
   "source": [
    "from sklearn.model_selection import train_test_split\n",
    "UpdatedX_train,UpdatedX_test, UpdatedY_train, UpdatedY_test = train_test_split( UpdatedX, UpdatedY ,test_size=0.2, shuffle = False)\n",
    "UpdatedX_valid,UpdatedX_test, UpdatedY_valid, UpdatedY_test = train_test_split( UpdatedX_test, UpdatedY_test ,test_size=0.5, shuffle = False)\n"
   ]
  },
  {
   "cell_type": "code",
   "execution_count": 40,
   "metadata": {},
   "outputs": [
    {
     "name": "stdout",
     "output_type": "stream",
     "text": [
      "(151906, 50, 56)\n",
      "(151906, 50, 56)\n"
     ]
    }
   ],
   "source": [
    "UpdatedX_train_scaled, UpdatedX_test_scaled = Normalize3D_tensor_Data(UpdatedX_train,UpdatedX_test)\n",
    "\n",
    "UpdatedX_train_scaled, UpdatedX_valid_scaled = Normalize3D_tensor_Data(UpdatedX_train,UpdatedX_valid)"
   ]
  },
  {
   "cell_type": "code",
   "execution_count": 41,
   "metadata": {},
   "outputs": [],
   "source": [
    "FullDataLstm1=lstm0(100,50,56,0.1,0.1)"
   ]
  },
  {
   "cell_type": "code",
   "execution_count": 42,
   "metadata": {},
   "outputs": [
    {
     "name": "stdout",
     "output_type": "stream",
     "text": [
      "Train on 151906 samples, validate on 18988 samples\n",
      "Epoch 1/100\n",
      "151906/151906 [==============================] - 103s 679us/step - loss: 0.6945 - categorical_accuracy: 0.5177 - val_loss: 0.6931 - val_categorical_accuracy: 0.5156\n",
      "Epoch 2/100\n",
      "151906/151906 [==============================] - 75s 496us/step - loss: 0.6804 - categorical_accuracy: 0.5634 - val_loss: 0.6760 - val_categorical_accuracy: 0.5621\n",
      "Epoch 3/100\n",
      "151906/151906 [==============================] - 77s 504us/step - loss: 0.6627 - categorical_accuracy: 0.6073 - val_loss: 0.6669 - val_categorical_accuracy: 0.5855\n",
      "Epoch 4/100\n",
      "151906/151906 [==============================] - 77s 508us/step - loss: 0.6541 - categorical_accuracy: 0.6232 - val_loss: 0.6626 - val_categorical_accuracy: 0.5984\n",
      "Epoch 5/100\n",
      "151906/151906 [==============================] - 79s 520us/step - loss: 0.6501 - categorical_accuracy: 0.6272 - val_loss: 0.6596 - val_categorical_accuracy: 0.6055\n",
      "Epoch 6/100\n",
      "151906/151906 [==============================] - 75s 492us/step - loss: 0.6459 - categorical_accuracy: 0.6309 - val_loss: 0.6496 - val_categorical_accuracy: 0.6266\n",
      "Epoch 7/100\n",
      "151906/151906 [==============================] - 75s 492us/step - loss: 0.6408 - categorical_accuracy: 0.6348 - val_loss: 0.6460 - val_categorical_accuracy: 0.6260\n",
      "Epoch 8/100\n",
      "151906/151906 [==============================] - 76s 502us/step - loss: 0.6367 - categorical_accuracy: 0.6366 - val_loss: 0.6456 - val_categorical_accuracy: 0.6234\n",
      "Epoch 9/100\n",
      "151906/151906 [==============================] - 80s 524us/step - loss: 0.6320 - categorical_accuracy: 0.6386 - val_loss: 0.6411 - val_categorical_accuracy: 0.6300\n",
      "Epoch 10/100\n",
      "151906/151906 [==============================] - 88s 577us/step - loss: 0.6279 - categorical_accuracy: 0.6430 - val_loss: 0.6379 - val_categorical_accuracy: 0.6361\n",
      "Epoch 11/100\n",
      "151906/151906 [==============================] - 80s 527us/step - loss: 0.6251 - categorical_accuracy: 0.6455 - val_loss: 0.6369 - val_categorical_accuracy: 0.6374\n",
      "Epoch 12/100\n",
      "151906/151906 [==============================] - 75s 495us/step - loss: 0.6219 - categorical_accuracy: 0.6484 - val_loss: 0.6340 - val_categorical_accuracy: 0.6396\n",
      "Epoch 13/100\n",
      "151906/151906 [==============================] - 77s 506us/step - loss: 0.6194 - categorical_accuracy: 0.6507 - val_loss: 0.6306 - val_categorical_accuracy: 0.6420\n",
      "Epoch 14/100\n",
      "151906/151906 [==============================] - 78s 512us/step - loss: 0.6156 - categorical_accuracy: 0.6531 - val_loss: 0.6303 - val_categorical_accuracy: 0.6451\n",
      "Epoch 15/100\n",
      "151906/151906 [==============================] - 86s 567us/step - loss: 0.6141 - categorical_accuracy: 0.6554 - val_loss: 0.6303 - val_categorical_accuracy: 0.6423\n",
      "Epoch 16/100\n",
      "151906/151906 [==============================] - 79s 520us/step - loss: 0.6126 - categorical_accuracy: 0.6573 - val_loss: 0.6285 - val_categorical_accuracy: 0.6456\n",
      "Epoch 17/100\n",
      "151906/151906 [==============================] - 77s 508us/step - loss: 0.6103 - categorical_accuracy: 0.6590 - val_loss: 0.6352 - val_categorical_accuracy: 0.6365\n",
      "Epoch 18/100\n",
      "151906/151906 [==============================] - 79s 523us/step - loss: 0.6089 - categorical_accuracy: 0.6587 - val_loss: 0.6301 - val_categorical_accuracy: 0.6412\n",
      "Epoch 19/100\n",
      "151906/151906 [==============================] - 86s 566us/step - loss: 0.6078 - categorical_accuracy: 0.6600 - val_loss: 0.6327 - val_categorical_accuracy: 0.6402\n",
      "Epoch 20/100\n",
      "151906/151906 [==============================] - 84s 553us/step - loss: 0.6065 - categorical_accuracy: 0.6617 - val_loss: 0.6331 - val_categorical_accuracy: 0.6363\n",
      "Epoch 21/100\n",
      "151906/151906 [==============================] - 84s 551us/step - loss: 0.6039 - categorical_accuracy: 0.6644 - val_loss: 0.6318 - val_categorical_accuracy: 0.6384\n",
      "Epoch 22/100\n",
      "151906/151906 [==============================] - 83s 548us/step - loss: 0.6015 - categorical_accuracy: 0.6657 - val_loss: 0.6316 - val_categorical_accuracy: 0.6379\n",
      "Epoch 23/100\n",
      "151906/151906 [==============================] - 83s 544us/step - loss: 0.6008 - categorical_accuracy: 0.6667 - val_loss: 0.6451 - val_categorical_accuracy: 0.6306\n",
      "Epoch 24/100\n",
      "151906/151906 [==============================] - 84s 550us/step - loss: 0.5988 - categorical_accuracy: 0.6676 - val_loss: 0.6389 - val_categorical_accuracy: 0.6297\n",
      "Epoch 25/100\n",
      "151906/151906 [==============================] - 83s 548us/step - loss: 0.5971 - categorical_accuracy: 0.6700 - val_loss: 0.6441 - val_categorical_accuracy: 0.6244\n",
      "Epoch 26/100\n",
      "151906/151906 [==============================] - 87s 570us/step - loss: 0.5955 - categorical_accuracy: 0.6714 - val_loss: 0.6369 - val_categorical_accuracy: 0.6357\n",
      "18989/18989 [==============================] - 14s 712us/step\n",
      "[0.6612250384131065, 0.5983990731664453]\n"
     ]
    }
   ],
   "source": [
    "callbacks = [EarlyStopping(monitor='val_loss', patience=10), ModelCheckpoint(filepath='best_model_Fulllstm.h5', monitor='val_loss', save_best_only=True)]\n",
    "hist_FullData1=FullDataLstm1.fit(UpdatedX_train_scaled, UpdatedY_train,callbacks=callbacks,validation_data=(UpdatedX_valid_scaled,UpdatedY_valid),batch_size=1000, epochs=100, shuffle=False,verbose=1)\n",
    "FullDataLstm1= load_model('best_model_Fulllstm.h5')\n",
    "FullDatascores1 = FullDataLstm1.evaluate(UpdatedX_test_scaled  , UpdatedY_test, verbose=1)\n",
    "print(FullDatascores1)"
   ]
  },
  {
   "cell_type": "code",
   "execution_count": 43,
   "metadata": {},
   "outputs": [
    {
     "data": {
      "image/png": "[encoded data removed]",
      "text/plain": [
       "<Figure size 1440x576 with 2 Axes>"
      ]
     },
     "metadata": {},
     "output_type": "display_data"
    }
   ],
   "source": [
    "plot_hist(hist_FullData1)"
   ]
  },
  {
   "cell_type": "code",
   "execution_count": null,
   "metadata": {},
   "outputs": [],
   "source": []
  }
 ],
 "metadata": {
  "kernelspec": {
   "display_name": "Python 3",
   "language": "python",
   "name": "python3"
  },
  "language_info": {
   "codemirror_mode": {
    "name": "ipython",
    "version": 3
   },
   "file_extension": ".py",
   "mimetype": "text/x-python",
   "name": "python",
   "nbconvert_exporter": "python",
   "pygments_lexer": "ipython3",
   "version": "3.6.4"
  }
 },
 "nbformat": 4,
 "nbformat_minor": 2
}
